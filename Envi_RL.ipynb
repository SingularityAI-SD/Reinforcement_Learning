{
 "cells": [
  {
   "cell_type": "code",
   "execution_count": null,
   "metadata": {},
   "outputs": [],
   "source": [
    "import random\n",
    "import openai\n",
    "\n",
    "def train(n_episodes:int):\n",
    "\n",
    "    env = openai.load_env()\n",
    "\n",
    "    agent = openai.get_rl_agent()\n",
    "\n",
    "    for episode in range(0,n_episodes):\n",
    "\n",
    "        state = env.reset()\n",
    "\n",
    "        epsilon = openai.get_epsilon(episode)\n",
    "\n",
    "        done = False\n",
    "        while not done:\n",
    "\n",
    "            if random.uniform(0,1)<epsilon:\n",
    "                action = env.action_space.sample()\n",
    "            else:\n",
    "                action = agent.get_best_action(state)\n",
    "\n",
    "            next_state,reward,done,info = env.step(action)\n",
    "\n",
    "            agent.update_parameters(state,action,reward,next_state)\n",
    "\n",
    "            state= next_state    "
   ]
  }
 ],
 "metadata": {
  "kernelspec": {
   "display_name": "Python 3.9.9 64-bit",
   "language": "python",
   "name": "python3"
  },
  "language_info": {
   "codemirror_mode": {
    "name": "ipython",
    "version": 3
   },
   "file_extension": ".py",
   "mimetype": "text/x-python",
   "name": "python",
   "nbconvert_exporter": "python",
   "pygments_lexer": "ipython3",
   "version": "3.9.9"
  },
  "orig_nbformat": 4,
  "vscode": {
   "interpreter": {
    "hash": "aee8b7b246df8f9039afb4144a1f6fd8d2ca17a180786b69acc140d282b71a49"
   }
  }
 },
 "nbformat": 4,
 "nbformat_minor": 2
}
